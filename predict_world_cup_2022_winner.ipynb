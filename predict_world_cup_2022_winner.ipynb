{
 "cells": [
  {
   "cell_type": "code",
   "execution_count": 1,
   "metadata": {},
   "outputs": [],
   "source": [
    "import pandas as pd\n",
    "from scipy.stats import poisson"
   ]
  },
  {
   "cell_type": "code",
   "execution_count": 2,
   "metadata": {},
   "outputs": [],
   "source": [
    "df_historical_data = pd.read_csv('_world_cup_2002_onward_matches.csv')"
   ]
  },
  {
   "cell_type": "code",
   "execution_count": 3,
   "metadata": {},
   "outputs": [],
   "source": [
    "# split the data teamwise\n",
    "df_home = df_historical_data[['HomeTeam', 'HomeGoals', 'AwayGoals']]\n",
    "df_away = df_historical_data[['AwayTeam', 'HomeGoals', 'AwayGoals']]"
   ]
  },
  {
   "cell_type": "code",
   "execution_count": 4,
   "metadata": {},
   "outputs": [],
   "source": [
    "# rename columns\n",
    "df_home = df_home.rename(columns={'HomeTeam': 'Team', 'HomeGoals': 'GoalsFor', 'AwayGoals': 'GoalsAgainst'})\n",
    "df_away = df_away.rename(columns={'AwayTeam': 'Team', 'HomeGoals': 'GoalsAgainst', 'AwayGoals': 'GoalsFor'})"
   ]
  },
  {
   "cell_type": "code",
   "execution_count": 5,
   "metadata": {},
   "outputs": [
    {
     "data": {
      "text/html": [
       "<div>\n",
       "<style scoped>\n",
       "    .dataframe tbody tr th:only-of-type {\n",
       "        vertical-align: middle;\n",
       "    }\n",
       "\n",
       "    .dataframe tbody tr th {\n",
       "        vertical-align: top;\n",
       "    }\n",
       "\n",
       "    .dataframe thead th {\n",
       "        text-align: right;\n",
       "    }\n",
       "</style>\n",
       "<table border=\"1\" class=\"dataframe\">\n",
       "  <thead>\n",
       "    <tr style=\"text-align: right;\">\n",
       "      <th></th>\n",
       "      <th>GoalsFor</th>\n",
       "      <th>GoalsAgainst</th>\n",
       "    </tr>\n",
       "    <tr>\n",
       "      <th>Team</th>\n",
       "      <th></th>\n",
       "      <th></th>\n",
       "    </tr>\n",
       "  </thead>\n",
       "  <tbody>\n",
       "    <tr>\n",
       "      <th>Algeria</th>\n",
       "      <td>1.000000</td>\n",
       "      <td>1.285714</td>\n",
       "    </tr>\n",
       "    <tr>\n",
       "      <th>Angola</th>\n",
       "      <td>0.333333</td>\n",
       "      <td>0.666667</td>\n",
       "    </tr>\n",
       "    <tr>\n",
       "      <th>Argentina</th>\n",
       "      <td>1.586207</td>\n",
       "      <td>1.000000</td>\n",
       "    </tr>\n",
       "    <tr>\n",
       "      <th>Australia</th>\n",
       "      <td>1.000000</td>\n",
       "      <td>1.882353</td>\n",
       "    </tr>\n",
       "    <tr>\n",
       "      <th>Belgium</th>\n",
       "      <td>1.526316</td>\n",
       "      <td>0.947368</td>\n",
       "    </tr>\n",
       "    <tr>\n",
       "      <th>...</th>\n",
       "      <td>...</td>\n",
       "      <td>...</td>\n",
       "    </tr>\n",
       "    <tr>\n",
       "      <th>USA</th>\n",
       "      <td>0.750000</td>\n",
       "      <td>1.000000</td>\n",
       "    </tr>\n",
       "    <tr>\n",
       "      <th>Ukraine</th>\n",
       "      <td>1.000000</td>\n",
       "      <td>1.400000</td>\n",
       "    </tr>\n",
       "    <tr>\n",
       "      <th>United States</th>\n",
       "      <td>1.187500</td>\n",
       "      <td>1.500000</td>\n",
       "    </tr>\n",
       "    <tr>\n",
       "      <th>Uruguay</th>\n",
       "      <td>1.272727</td>\n",
       "      <td>1.090909</td>\n",
       "    </tr>\n",
       "    <tr>\n",
       "      <th>Wales</th>\n",
       "      <td>0.333333</td>\n",
       "      <td>2.000000</td>\n",
       "    </tr>\n",
       "  </tbody>\n",
       "</table>\n",
       "<p>63 rows × 2 columns</p>\n",
       "</div>"
      ],
      "text/plain": [
       "               GoalsFor  GoalsAgainst\n",
       "Team                                 \n",
       "Algeria        1.000000      1.285714\n",
       "Angola         0.333333      0.666667\n",
       "Argentina      1.586207      1.000000\n",
       "Australia      1.000000      1.882353\n",
       "Belgium        1.526316      0.947368\n",
       "...                 ...           ...\n",
       "USA            0.750000      1.000000\n",
       "Ukraine        1.000000      1.400000\n",
       "United States  1.187500      1.500000\n",
       "Uruguay        1.272727      1.090909\n",
       "Wales          0.333333      2.000000\n",
       "\n",
       "[63 rows x 2 columns]"
      ]
     },
     "execution_count": 5,
     "metadata": {},
     "output_type": "execute_result"
    }
   ],
   "source": [
    "# combine datasets, group by team and calculate mean\n",
    "df_team_strength = pd.concat([df_home, df_away], ignore_index=True).groupby('Team').mean()\n",
    "df_team_strength"
   ]
  },
  {
   "cell_type": "code",
   "execution_count": 6,
   "metadata": {},
   "outputs": [],
   "source": [
    "# Predict points for home and away team using Poisson distribution to calculate probability\n",
    "def predict_points(home, away):\n",
    "    if home in df_team_strength.index and away in df_team_strength.index:\n",
    "        # goals_for * goals_against\n",
    "        lambda_home = df_team_strength.at[home,'GoalsFor'] * df_team_strength.at[away,'GoalsAgainst']\n",
    "        lambda_away = df_team_strength.at[away,'GoalsFor'] * df_team_strength.at[home,'GoalsAgainst']\n",
    "        prob_home, prob_away, prob_draw = 0, 0, 0\n",
    "        for x in range(0,9): # number of goals home team\n",
    "            for y in range(0, 9): # number of goals away team\n",
    "                p = poisson.pmf(x, lambda_home) * poisson.pmf(y, lambda_away)\n",
    "                if x == y:\n",
    "                    prob_draw += p\n",
    "                elif x > y:\n",
    "                    prob_home += p\n",
    "                else:\n",
    "                    prob_away += p\n",
    "        \n",
    "        points_home = 3 * prob_home + prob_draw\n",
    "        points_away = 3 * prob_away + prob_draw\n",
    "        return (points_home, points_away)\n",
    "    else:\n",
    "        return (0, 0)"
   ]
  },
  {
   "cell_type": "code",
   "execution_count": 7,
   "metadata": {},
   "outputs": [],
   "source": [
    "def get_winner(home_team, away_team):\n",
    "    points = predict_points(home_team, away_team)\n",
    "    if points[0] > points[1]:\n",
    "        winner = home_team\n",
    "    else:\n",
    "        winner = away_team\n",
    "    return winner"
   ]
  },
  {
   "attachments": {},
   "cell_type": "markdown",
   "metadata": {},
   "source": [
    "Predict the top 4 spots based on actual results upto 2022 QF stage matches (beginning from WC2002)"
   ]
  },
  {
   "cell_type": "code",
   "execution_count": 8,
   "metadata": {},
   "outputs": [
    {
     "name": "stdout",
     "output_type": "stream",
     "text": [
      "Semi #1 (ARG v CRO) winner: Argentina\n",
      "Semi #2 (FRA v MAR) winner: France\n",
      "3rd place (CRO v MAR) winner: Morocco\n",
      "Final (FRA v ARG) winner: France\n"
     ]
    }
   ],
   "source": [
    "print('Semi #1 (ARG v CRO) winner:', get_winner('Argentina', 'Croatia'))\n",
    "print('Semi #2 (FRA v MAR) winner:', get_winner('France', 'Morocco'))\n",
    "print('3rd place (CRO v MAR) winner:', get_winner('Croatia', 'Morocco'))\n",
    "print('Final (FRA v ARG) winner:', get_winner('France', 'Argentina'))"
   ]
  }
 ],
 "metadata": {
  "kernelspec": {
   "display_name": "mlpy310",
   "language": "python",
   "name": "python3"
  },
  "language_info": {
   "codemirror_mode": {
    "name": "ipython",
    "version": 3
   },
   "file_extension": ".py",
   "mimetype": "text/x-python",
   "name": "python",
   "nbconvert_exporter": "python",
   "pygments_lexer": "ipython3",
   "version": "3.10.8"
  },
  "orig_nbformat": 4,
  "vscode": {
   "interpreter": {
    "hash": "5cca711308db3ce480bba140d22ffe2b850461b15d363c160623bf177454b752"
   }
  }
 },
 "nbformat": 4,
 "nbformat_minor": 2
}
